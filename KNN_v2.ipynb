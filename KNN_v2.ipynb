{
 "cells": [
  {
   "cell_type": "code",
   "execution_count": 19,
   "metadata": {},
   "outputs": [
    {
     "data": {
      "text/html": [
       "<div>\n",
       "<style scoped>\n",
       "    .dataframe tbody tr th:only-of-type {\n",
       "        vertical-align: middle;\n",
       "    }\n",
       "\n",
       "    .dataframe tbody tr th {\n",
       "        vertical-align: top;\n",
       "    }\n",
       "\n",
       "    .dataframe thead th {\n",
       "        text-align: right;\n",
       "    }\n",
       "</style>\n",
       "<table border=\"1\" class=\"dataframe\">\n",
       "  <thead>\n",
       "    <tr style=\"text-align: right;\">\n",
       "      <th></th>\n",
       "      <th>id</th>\n",
       "      <th>air_temp</th>\n",
       "      <th>conductivity</th>\n",
       "      <th>humidity</th>\n",
       "      <th>pH</th>\n",
       "      <th>sulphur</th>\n",
       "      <th>temperature_c</th>\n",
       "      <th>ppm</th>\n",
       "      <th>pHlow</th>\n",
       "      <th>pHhigh</th>\n",
       "      <th>temperature_clow</th>\n",
       "      <th>temperature_chigh</th>\n",
       "      <th>ppmlow</th>\n",
       "      <th>ppmhigh</th>\n",
       "    </tr>\n",
       "  </thead>\n",
       "  <tbody>\n",
       "    <tr>\n",
       "      <th>0</th>\n",
       "      <td>373601</td>\n",
       "      <td>75.81</td>\n",
       "      <td>1.89392</td>\n",
       "      <td>20.2</td>\n",
       "      <td>4.297</td>\n",
       "      <td>56.8</td>\n",
       "      <td>23.3</td>\n",
       "      <td>1352.24</td>\n",
       "      <td>0</td>\n",
       "      <td>0</td>\n",
       "      <td>0</td>\n",
       "      <td>0</td>\n",
       "      <td>0</td>\n",
       "      <td>0</td>\n",
       "    </tr>\n",
       "    <tr>\n",
       "      <th>1</th>\n",
       "      <td>373602</td>\n",
       "      <td>75.31</td>\n",
       "      <td>1.84589</td>\n",
       "      <td>20.9</td>\n",
       "      <td>5.113</td>\n",
       "      <td>43.0</td>\n",
       "      <td>23.9</td>\n",
       "      <td>1268.65</td>\n",
       "      <td>0</td>\n",
       "      <td>0</td>\n",
       "      <td>0</td>\n",
       "      <td>0</td>\n",
       "      <td>0</td>\n",
       "      <td>0</td>\n",
       "    </tr>\n",
       "    <tr>\n",
       "      <th>2</th>\n",
       "      <td>373603</td>\n",
       "      <td>75.53</td>\n",
       "      <td>1.85983</td>\n",
       "      <td>20.8</td>\n",
       "      <td>4.253</td>\n",
       "      <td>74.2</td>\n",
       "      <td>23.6</td>\n",
       "      <td>1282.80</td>\n",
       "      <td>0</td>\n",
       "      <td>0</td>\n",
       "      <td>0</td>\n",
       "      <td>0</td>\n",
       "      <td>0</td>\n",
       "      <td>0</td>\n",
       "    </tr>\n",
       "    <tr>\n",
       "      <th>3</th>\n",
       "      <td>373604</td>\n",
       "      <td>76.01</td>\n",
       "      <td>1.92501</td>\n",
       "      <td>20.8</td>\n",
       "      <td>4.691</td>\n",
       "      <td>35.6</td>\n",
       "      <td>23.3</td>\n",
       "      <td>1286.87</td>\n",
       "      <td>0</td>\n",
       "      <td>0</td>\n",
       "      <td>0</td>\n",
       "      <td>0</td>\n",
       "      <td>0</td>\n",
       "      <td>0</td>\n",
       "    </tr>\n",
       "    <tr>\n",
       "      <th>4</th>\n",
       "      <td>373605</td>\n",
       "      <td>75.73</td>\n",
       "      <td>1.81027</td>\n",
       "      <td>21.4</td>\n",
       "      <td>5.156</td>\n",
       "      <td>51.2</td>\n",
       "      <td>22.1</td>\n",
       "      <td>1284.18</td>\n",
       "      <td>0</td>\n",
       "      <td>0</td>\n",
       "      <td>0</td>\n",
       "      <td>0</td>\n",
       "      <td>0</td>\n",
       "      <td>0</td>\n",
       "    </tr>\n",
       "  </tbody>\n",
       "</table>\n",
       "</div>"
      ],
      "text/plain": [
       "       id  air_temp  conductivity  humidity     pH  sulphur  temperature_c  \\\n",
       "0  373601     75.81       1.89392      20.2  4.297     56.8           23.3   \n",
       "1  373602     75.31       1.84589      20.9  5.113     43.0           23.9   \n",
       "2  373603     75.53       1.85983      20.8  4.253     74.2           23.6   \n",
       "3  373604     76.01       1.92501      20.8  4.691     35.6           23.3   \n",
       "4  373605     75.73       1.81027      21.4  5.156     51.2           22.1   \n",
       "\n",
       "       ppm  pHlow  pHhigh  temperature_clow  temperature_chigh  ppmlow  \\\n",
       "0  1352.24      0       0                 0                  0       0   \n",
       "1  1268.65      0       0                 0                  0       0   \n",
       "2  1282.80      0       0                 0                  0       0   \n",
       "3  1286.87      0       0                 0                  0       0   \n",
       "4  1284.18      0       0                 0                  0       0   \n",
       "\n",
       "   ppmhigh  \n",
       "0        0  \n",
       "1        0  \n",
       "2        0  \n",
       "3        0  \n",
       "4        0  "
      ]
     },
     "execution_count": 19,
     "metadata": {},
     "output_type": "execute_result"
    }
   ],
   "source": [
    "import pandas as pd\n",
    "from sklearn.linear_model import LinearRegression\n",
    "df=pd.read_csv(\"blueberry_hydroponic_train_new_new.csv\")\n",
    "df.head()"
   ]
  },
  {
   "cell_type": "code",
   "execution_count": 20,
   "metadata": {},
   "outputs": [
    {
     "data": {
      "text/html": [
       "<div>\n",
       "<style scoped>\n",
       "    .dataframe tbody tr th:only-of-type {\n",
       "        vertical-align: middle;\n",
       "    }\n",
       "\n",
       "    .dataframe tbody tr th {\n",
       "        vertical-align: top;\n",
       "    }\n",
       "\n",
       "    .dataframe thead th {\n",
       "        text-align: right;\n",
       "    }\n",
       "</style>\n",
       "<table border=\"1\" class=\"dataframe\">\n",
       "  <thead>\n",
       "    <tr style=\"text-align: right;\">\n",
       "      <th></th>\n",
       "      <th>air_temp</th>\n",
       "      <th>conductivity</th>\n",
       "      <th>humidity</th>\n",
       "      <th>pH</th>\n",
       "      <th>sulphur</th>\n",
       "      <th>temperature_c</th>\n",
       "      <th>ppm</th>\n",
       "    </tr>\n",
       "  </thead>\n",
       "  <tbody>\n",
       "    <tr>\n",
       "      <th>0</th>\n",
       "      <td>75.81</td>\n",
       "      <td>1.89392</td>\n",
       "      <td>20.2</td>\n",
       "      <td>4.297</td>\n",
       "      <td>56.8</td>\n",
       "      <td>23.3</td>\n",
       "      <td>1352.24</td>\n",
       "    </tr>\n",
       "    <tr>\n",
       "      <th>1</th>\n",
       "      <td>75.31</td>\n",
       "      <td>1.84589</td>\n",
       "      <td>20.9</td>\n",
       "      <td>5.113</td>\n",
       "      <td>43.0</td>\n",
       "      <td>23.9</td>\n",
       "      <td>1268.65</td>\n",
       "    </tr>\n",
       "    <tr>\n",
       "      <th>2</th>\n",
       "      <td>75.53</td>\n",
       "      <td>1.85983</td>\n",
       "      <td>20.8</td>\n",
       "      <td>4.253</td>\n",
       "      <td>74.2</td>\n",
       "      <td>23.6</td>\n",
       "      <td>1282.80</td>\n",
       "    </tr>\n",
       "    <tr>\n",
       "      <th>3</th>\n",
       "      <td>76.01</td>\n",
       "      <td>1.92501</td>\n",
       "      <td>20.8</td>\n",
       "      <td>4.691</td>\n",
       "      <td>35.6</td>\n",
       "      <td>23.3</td>\n",
       "      <td>1286.87</td>\n",
       "    </tr>\n",
       "    <tr>\n",
       "      <th>4</th>\n",
       "      <td>75.73</td>\n",
       "      <td>1.81027</td>\n",
       "      <td>21.4</td>\n",
       "      <td>5.156</td>\n",
       "      <td>51.2</td>\n",
       "      <td>22.1</td>\n",
       "      <td>1284.18</td>\n",
       "    </tr>\n",
       "  </tbody>\n",
       "</table>\n",
       "</div>"
      ],
      "text/plain": [
       "   air_temp  conductivity  humidity     pH  sulphur  temperature_c      ppm\n",
       "0     75.81       1.89392      20.2  4.297     56.8           23.3  1352.24\n",
       "1     75.31       1.84589      20.9  5.113     43.0           23.9  1268.65\n",
       "2     75.53       1.85983      20.8  4.253     74.2           23.6  1282.80\n",
       "3     76.01       1.92501      20.8  4.691     35.6           23.3  1286.87\n",
       "4     75.73       1.81027      21.4  5.156     51.2           22.1  1284.18"
      ]
     },
     "execution_count": 20,
     "metadata": {},
     "output_type": "execute_result"
    }
   ],
   "source": [
    "X = df.drop(columns=['id','pHlow','pHhigh','temperature_clow','temperature_chigh','ppmlow','ppmhigh'])\n",
    "X.head()"
   ]
  },
  {
   "cell_type": "code",
   "execution_count": 21,
   "metadata": {},
   "outputs": [
    {
     "data": {
      "text/html": [
       "<div>\n",
       "<style scoped>\n",
       "    .dataframe tbody tr th:only-of-type {\n",
       "        vertical-align: middle;\n",
       "    }\n",
       "\n",
       "    .dataframe tbody tr th {\n",
       "        vertical-align: top;\n",
       "    }\n",
       "\n",
       "    .dataframe thead th {\n",
       "        text-align: right;\n",
       "    }\n",
       "</style>\n",
       "<table border=\"1\" class=\"dataframe\">\n",
       "  <thead>\n",
       "    <tr style=\"text-align: right;\">\n",
       "      <th></th>\n",
       "      <th>pHlow</th>\n",
       "      <th>pHhigh</th>\n",
       "      <th>temperature_clow</th>\n",
       "      <th>temperature_chigh</th>\n",
       "      <th>ppmlow</th>\n",
       "      <th>ppmhigh</th>\n",
       "    </tr>\n",
       "  </thead>\n",
       "  <tbody>\n",
       "    <tr>\n",
       "      <th>0</th>\n",
       "      <td>0</td>\n",
       "      <td>0</td>\n",
       "      <td>0</td>\n",
       "      <td>0</td>\n",
       "      <td>0</td>\n",
       "      <td>0</td>\n",
       "    </tr>\n",
       "    <tr>\n",
       "      <th>1</th>\n",
       "      <td>0</td>\n",
       "      <td>0</td>\n",
       "      <td>0</td>\n",
       "      <td>0</td>\n",
       "      <td>0</td>\n",
       "      <td>0</td>\n",
       "    </tr>\n",
       "    <tr>\n",
       "      <th>2</th>\n",
       "      <td>0</td>\n",
       "      <td>0</td>\n",
       "      <td>0</td>\n",
       "      <td>0</td>\n",
       "      <td>0</td>\n",
       "      <td>0</td>\n",
       "    </tr>\n",
       "    <tr>\n",
       "      <th>3</th>\n",
       "      <td>0</td>\n",
       "      <td>0</td>\n",
       "      <td>0</td>\n",
       "      <td>0</td>\n",
       "      <td>0</td>\n",
       "      <td>0</td>\n",
       "    </tr>\n",
       "    <tr>\n",
       "      <th>4</th>\n",
       "      <td>0</td>\n",
       "      <td>0</td>\n",
       "      <td>0</td>\n",
       "      <td>0</td>\n",
       "      <td>0</td>\n",
       "      <td>0</td>\n",
       "    </tr>\n",
       "  </tbody>\n",
       "</table>\n",
       "</div>"
      ],
      "text/plain": [
       "   pHlow  pHhigh  temperature_clow  temperature_chigh  ppmlow  ppmhigh\n",
       "0      0       0                 0                  0       0        0\n",
       "1      0       0                 0                  0       0        0\n",
       "2      0       0                 0                  0       0        0\n",
       "3      0       0                 0                  0       0        0\n",
       "4      0       0                 0                  0       0        0"
      ]
     },
     "execution_count": 21,
     "metadata": {},
     "output_type": "execute_result"
    }
   ],
   "source": [
    "from sklearn import preprocessing\n",
    "from sklearn import utils\n",
    "y=df.drop(columns=['id','air_temp','conductivity','humidity','pH','sulphur','temperature_c','ppm'])\n",
    "y.head()"
   ]
  },
  {
   "cell_type": "code",
   "execution_count": 22,
   "metadata": {},
   "outputs": [
    {
     "name": "stdout",
     "output_type": "stream",
     "text": [
      "0.9960289855072464\n"
     ]
    }
   ],
   "source": [
    "from sklearn.neighbors import KNeighborsClassifier\n",
    "from sklearn import metrics\n",
    "knn = KNeighborsClassifier(n_neighbors=5)\n",
    "knn.fit(X, y)\n",
    "y_pred = knn.predict(X)\n",
    "print(metrics.accuracy_score(y, y_pred))\n"
   ]
  },
  {
   "cell_type": "code",
   "execution_count": 23,
   "metadata": {},
   "outputs": [
    {
     "name": "stdout",
     "output_type": "stream",
     "text": [
      "0.9960289855072464\n"
     ]
    }
   ],
   "source": [
    "from sklearn.neighbors import KNeighborsClassifier\n",
    "knn = KNeighborsClassifier(n_neighbors=5)\n",
    "knn.fit(X, y)\n",
    "y_pred = knn.predict(X)\n",
    "print(metrics.accuracy_score(y, y_pred))"
   ]
  },
  {
   "cell_type": "code",
   "execution_count": 24,
   "metadata": {},
   "outputs": [
    {
     "name": "stdout",
     "output_type": "stream",
     "text": [
      "1.0\n"
     ]
    }
   ],
   "source": [
    "knn = KNeighborsClassifier(n_neighbors=1)\n",
    "knn.fit(X, y)\n",
    "y_pred = knn.predict(X)\n",
    "print(metrics.accuracy_score(y, y_pred))"
   ]
  },
  {
   "cell_type": "code",
   "execution_count": 25,
   "metadata": {},
   "outputs": [
    {
     "name": "stdout",
     "output_type": "stream",
     "text": [
      "(34500, 7)\n",
      "(34500, 6)\n"
     ]
    }
   ],
   "source": [
    "# X is our features matrix with 150 x 4 dimension\n",
    "print(X.shape)\n",
    "# y is our response vector with 150 x 1 dimension\n",
    "print(y.shape)"
   ]
  },
  {
   "cell_type": "code",
   "execution_count": 26,
   "metadata": {},
   "outputs": [],
   "source": [
    "from sklearn.model_selection import train_test_split\n",
    "X_train, X_test, y_train, y_test = train_test_split(X, y, test_size=0.4, random_state=4)"
   ]
  },
  {
   "cell_type": "code",
   "execution_count": 27,
   "metadata": {},
   "outputs": [
    {
     "name": "stdout",
     "output_type": "stream",
     "text": [
      "(20700, 7)\n",
      "(13800, 7)\n"
     ]
    }
   ],
   "source": [
    "# print the shapes of the new X objects\n",
    "print(X_train.shape)\n",
    "print(X_test.shape)"
   ]
  },
  {
   "cell_type": "code",
   "execution_count": 28,
   "metadata": {},
   "outputs": [
    {
     "name": "stdout",
     "output_type": "stream",
     "text": [
      "(20700, 6)\n",
      "(13800, 6)\n"
     ]
    }
   ],
   "source": [
    "# print the shapes of the new y objects\n",
    "print(y_train.shape)\n",
    "print(y_test.shape)"
   ]
  },
  {
   "cell_type": "code",
   "execution_count": 29,
   "metadata": {},
   "outputs": [
    {
     "name": "stdout",
     "output_type": "stream",
     "text": [
      "0.9826086956521739\n"
     ]
    }
   ],
   "source": [
    "knn = KNeighborsClassifier(n_neighbors=5)\n",
    "knn.fit(X_train, y_train)\n",
    "y_pred = knn.predict(X_test)\n",
    "print(metrics.accuracy_score(y_test, y_pred))"
   ]
  },
  {
   "cell_type": "code",
   "execution_count": 30,
   "metadata": {},
   "outputs": [
    {
     "name": "stdout",
     "output_type": "stream",
     "text": [
      "0.9826086956521739\n"
     ]
    }
   ],
   "source": [
    "knn = KNeighborsClassifier(n_neighbors=5)\n",
    "knn.fit(X_train, y_train)\n",
    "y_pred = knn.predict(X_test)\n",
    "print(metrics.accuracy_score(y_test, y_pred))"
   ]
  },
  {
   "cell_type": "code",
   "execution_count": 31,
   "metadata": {},
   "outputs": [
    {
     "name": "stdout",
     "output_type": "stream",
     "text": [
      "[0.9906521739130435, 0.9723188405797102, 0.9852173913043478, 0.9710869565217392, 0.9826086956521739, 0.9690579710144928, 0.9799275362318841, 0.967536231884058, 0.9775362318840579, 0.9648550724637681, 0.9765942028985507, 0.965, 0.9744202898550725, 0.9651449275362319, 0.973768115942029, 0.9647826086956521, 0.972463768115942, 0.9640579710144928, 0.9717391304347827, 0.9640579710144928, 0.9721739130434782, 0.962391304347826, 0.9707971014492753, 0.9628260869565217, 0.9705072463768116]\n"
     ]
    }
   ],
   "source": [
    "k_range = range(1, 26)\n",
    "\n",
    "# We can create Python dictionary using [] or dict()\n",
    "scores = []\n",
    "\n",
    "# We use a loop through the range 1 to 26\n",
    "# We append the scores in the dictionary\n",
    "for k in k_range:\n",
    "    knn = KNeighborsClassifier(n_neighbors=k)\n",
    "    knn.fit(X_train, y_train)\n",
    "    y_pred = knn.predict(X_test)\n",
    "    scores.append(metrics.accuracy_score(y_test, y_pred))\n",
    "\n",
    "print(scores)\n"
   ]
  },
  {
   "cell_type": "code",
   "execution_count": 32,
   "metadata": {},
   "outputs": [
    {
     "data": {
      "text/plain": [
       "Text(0, 0.5, 'Testing Accuracy')"
      ]
     },
     "execution_count": 32,
     "metadata": {},
     "output_type": "execute_result"
    },
    {
     "data": {
      "image/png": "[encoded data removed]",
      "text/plain": [
       "<Figure size 432x288 with 1 Axes>"
      ]
     },
     "metadata": {
      "needs_background": "light"
     },
     "output_type": "display_data"
    }
   ],
   "source": [
    "# import Matplotlib (scientific plotting library)\n",
    "import matplotlib.pyplot as plt\n",
    "\n",
    "# allow plots to appear within the notebook\n",
    "%matplotlib inline\n",
    "\n",
    "# plot the relationship between K and testing accuracy\n",
    "# plt.plot(x_axis, y_axis)\n",
    "plt.plot(k_range, scores)\n",
    "plt.xlabel('Value of K for KNN')\n",
    "plt.ylabel('Testing Accuracy')"
   ]
  },
  {
   "cell_type": "code",
   "execution_count": 43,
   "metadata": {},
   "outputs": [
    {
     "data": {
      "text/plain": [
       "array([[0, 0, 0, 0, 0, 0]], dtype=int64)"
      ]
     },
     "execution_count": 43,
     "metadata": {},
     "output_type": "execute_result"
    }
   ],
   "source": [
    "import numpy as np\n",
    "knn = KNeighborsClassifier(n_neighbors=25)\n",
    "import array as arr\n",
    "# train the model with X and y (not X_train and y_train)\n",
    "knn.fit(X, y)\n",
    "#arr = np.array(75.81,1.89392,20.2,4.297,56.8,23.3,1352.24)\n",
    "#arr.reshape(-1,1)\n",
    "arr1 =  [75.81,1.89392,20.2,4.297,56.8,23.3,1352.24]\n",
    "\n",
    "# make a prediction for an out-of-sample observation\n",
    "knn.predict([arr1])"
   ]
  },
  {
   "cell_type": "code",
   "execution_count": 40,
   "metadata": {},
   "outputs": [],
   "source": [
    "'''\n",
    "X1=X.drop(columns=['pH'])\n",
    "lr=LinearRegression()\n",
    "X2=X.drop(columns=['air_temp','conductivity','humidity','sulphur','temperature_c','ppm'])\n",
    "'''"
   ]
  },
  {
   "cell_type": "code",
   "execution_count": 48,
   "metadata": {},
   "outputs": [
    {
     "name": "stdout",
     "output_type": "stream",
     "text": [
      "[5.78793015]\n"
     ]
    }
   ],
   "source": [
    "#Multivariate regression to predict pH YAAAAAAAAAAAAAAAAAAAAAAAAAAAAAAAYYYYYYYYYYYYYYYYY\n",
    "X1=X[['air_temp','conductivity','humidity','sulphur','temperature_c','ppm']]\n",
    "Y1=X['pH']\n",
    "lr=LinearRegression()\n",
    "lr.fit(X1,Y1)\n",
    "predictedpH=lr.predict([[75.81,1.89392,20.2,65.8,26.5,1552.24]])\n",
    "print(predictedpH)"
   ]
  },
  {
   "cell_type": "code",
   "execution_count": null,
   "metadata": {},
   "outputs": [],
   "source": []
  }
 ],
 "metadata": {
  "kernelspec": {
   "display_name": "Python 3",
   "language": "python",
   "name": "python3"
  },
  "language_info": {
   "codemirror_mode": {
    "name": "ipython",
    "version": 3
   },
   "file_extension": ".py",
   "mimetype": "text/x-python",
   "name": "python",
   "nbconvert_exporter": "python",
   "pygments_lexer": "ipython3",
   "version": "3.7.6"
  }
 },
 "nbformat": 4,
 "nbformat_minor": 4
}
